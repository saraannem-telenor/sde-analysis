{
 "cells": [
  {
   "cell_type": "markdown",
   "metadata": {},
   "source": [
    "# Preprocessing Altimetry data"
   ]
  },
  {
   "cell_type": "code",
   "execution_count": null,
   "metadata": {},
   "outputs": [],
   "source": [
    "import os\n",
    "from rasterio.merge import merge\n",
    "import geopandas as gpd\n",
    "import matplotlib.pyplot as plt\n",
    "import os\n",
    "import rioxarray\n",
    "import geopandas as gpd\n",
    "import pandas as pd\n",
    "import xarray as xr\n",
    "from shapely.geometry import box\n",
    "\n",
    "from rioxarray.merge import merge_arrays\n",
    "\n",
    "\n",
    "import rioxarray\n",
    "import xarray as xr\n",
    "\n",
    "\n",
    "\n",
    "import pandas as pd\n",
    "from shapely.geometry import box"
   ]
  },
  {
   "cell_type": "code",
   "execution_count": null,
   "metadata": {},
   "outputs": [],
   "source": [
    "# Load the shapefile\n",
    "\n",
    "dem_dir = \"data/raw/other_data/altimetri\"\n",
    "shp_file = \"data/raw/catchment_statkraft/catchment.shp\"\n",
    "catchment = gpd.read_file(shp_file)\n",
    "\n",
    "catchment = catchment.to_crs(\"EPSG:25832\")"
   ]
  },
  {
   "cell_type": "markdown",
   "metadata": {},
   "source": [
    "#### Check the data"
   ]
  },
  {
   "cell_type": "code",
   "execution_count": null,
   "metadata": {},
   "outputs": [],
   "source": [
    "\n",
    "# Replace with your actual file path\n",
    "file_path = \"data/raw/other_data/altimetri/6805_1_10m_z32.tif\"\n",
    "\n",
    "# Load the DEM\n",
    "dem = rioxarray.open_rasterio(file_path, masked=True)\n",
    "\n",
    "# Plot it\n",
    "dem.plot(cmap=\"terrain\", figsize=(10, 6));"
   ]
  },
  {
   "cell_type": "markdown",
   "metadata": {},
   "source": [
    "### Concatenate the .tif files and clip them to the catchment"
   ]
  },
  {
   "cell_type": "code",
   "execution_count": null,
   "metadata": {},
   "outputs": [],
   "source": [
    "# List all .tif files in the folder\n",
    "dem_files = [f for f in os.listdir(dem_dir) if f.endswith(\".tif\")]\n",
    "\n",
    "elevation_dfs = []\n",
    "dem_clipped_list = []\n",
    "\n",
    "for fname in dem_files:\n",
    "    fpath = os.path.join(dem_dir, fname)\n",
    "    dem = rioxarray.open_rasterio(fpath, masked=True)\n",
    "\n",
    "    # Check for intersection\n",
    "    left, bottom, right, top = dem.rio.bounds()\n",
    "    dem_box = gpd.GeoDataFrame(geometry=[box(left, bottom, right, top)], crs=dem.rio.crs)\n",
    "    \n",
    "    if not dem_box.intersects(catchment.union_all()).any():\n",
    "        continue  # Skip if it doesn't overlap\n",
    "\n",
    "    # Clip and store\n",
    "    dem_clipped = dem.rio.clip(catchment.geometry, catchment.crs)\n",
    "    dem_clipped_list.append(dem_clipped)\n",
    "\n",
    "    # Flatten to DataFrame\n",
    "    df = dem_clipped.squeeze().to_dataframe(name=\"elevation\").reset_index()\n",
    "    df = df.dropna(subset=[\"elevation\"])\n",
    "    elevation_dfs.append(df)\n",
    "\n",
    "# Sort coordinates for each clipped DEM\n",
    "dem_clipped_list_sorted = [\n",
    "    da.sortby([\"y\", \"x\"]) for da in dem_clipped_list\n",
    "]\n",
    "\n",
    "# Merge them\n",
    "\n",
    "\n",
    "# Merge all DEMs and save\n",
    "if dem_clipped_list:\n",
    "    merged_dem = merge_arrays(dem_clipped_list)\n",
    "    merged_dem.rio.to_raster(\"data/processed_w_notebooks/catchment_terrain_dem.tif\")\n",
    "    print(\"Saved raster: catchment_terrain_dem.tif\")\n",
    "\n",
    "    elevation_df = pd.concat(elevation_dfs, ignore_index=True)"
   ]
  },
  {
   "cell_type": "markdown",
   "metadata": {},
   "source": [
    "#### Create an elevation dataframe to compare with errors"
   ]
  },
  {
   "cell_type": "code",
   "execution_count": null,
   "metadata": {},
   "outputs": [],
   "source": [
    "# Convert elevation_df to a GeoDataFrame using projected CRS (UTM Zone 32N)\n",
    "gdf = gpd.GeoDataFrame(\n",
    "    elevation_df,\n",
    "    geometry=gpd.points_from_xy(elevation_df['x'], elevation_df['y']),\n",
    "    crs=\"EPSG:25832\"\n",
    ")\n",
    "\n",
    "# Reproject to WGS84 (lat/lon)\n",
    "gdf = gdf.to_crs(\"EPSG:4326\")\n",
    "\n",
    "# Extract latitude and longitude into new columns\n",
    "gdf['latitude'] = gdf.geometry.y\n",
    "gdf['longitude'] = gdf.geometry.x\n",
    "\n",
    "# (Optional) Drop geometry column if you don't need it\n",
    "gdf = gdf.drop(columns='geometry')\n",
    "\n",
    "# Save or keep as DataFrame\n",
    "elevation_df_with_latlon = gdf\n",
    "\n",
    "elevation_df_with_latlon.to_csv(\"data/processed_w_notebooks/catchment_elevation.csv\", index=False)\n",
    "\n",
    "print(\"Saved CSV: catchment_elevation.csv\")"
   ]
  },
  {
   "cell_type": "markdown",
   "metadata": {},
   "source": [
    "### Plot the catchment with terrain"
   ]
  },
  {
   "cell_type": "code",
   "execution_count": null,
   "metadata": {},
   "outputs": [],
   "source": [
    "# Load terrain raster\n",
    "dem = rioxarray.open_rasterio(\"catchment_terrain_dem.tif\", masked=True)\n",
    "\n",
    "# Load catchment shapefile\n",
    "catchment = gpd.read_file(shp_file).to_crs(dem.rio.crs)\n",
    "\n",
    "# Plot\n",
    "fig, ax = plt.subplots(figsize=(10, 10))\n",
    "\n",
    "# Plot DEM\n",
    "dem.squeeze().plot(\n",
    "    ax=ax,\n",
    "    cmap='terrain',\n",
    "    cbar_kwargs={'label': 'Elevation (m)'}\n",
    ")\n",
    "\n",
    "# Overlay catchment boundary\n",
    "catchment.boundary.plot(ax=ax, edgecolor='red', linewidth=2)\n",
    "\n",
    "# Formatting\n",
    "ax.set_title(\"Catchment Area over Terrain Elevation\", fontsize=14)\n",
    "ax.set_xlabel(\"X\")\n",
    "ax.set_ylabel(\"Y\")\n",
    "plt.show();\n"
   ]
  },
  {
   "cell_type": "code",
   "execution_count": null,
   "metadata": {},
   "outputs": [],
   "source": []
  }
 ],
 "metadata": {
  "kernelspec": {
   "display_name": "statkraft_venv",
   "language": "python",
   "name": "python3"
  },
  "language_info": {
   "codemirror_mode": {
    "name": "ipython",
    "version": 3
   },
   "file_extension": ".py",
   "mimetype": "text/x-python",
   "name": "python",
   "nbconvert_exporter": "python",
   "pygments_lexer": "ipython3",
   "version": "3.9.1"
  }
 },
 "nbformat": 4,
 "nbformat_minor": 2
}
